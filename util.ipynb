{
 "cells": [
  {
   "cell_type": "code",
   "execution_count": 1,
   "metadata": {},
   "outputs": [],
   "source": [
    "#' @importFrom attempt stop_if_not\n",
    "#' @importFrom curl has_internet\n",
    "check_internet <- function(){\n",
    "  stop_if_not(.x = has_internet(), msg = \"Please check your internet connexion\")\n",
    "}\n",
    "\n",
    "#' @importFrom httr status_code\n",
    "check_status <- function(res){\n",
    "  stop_if_not(.x = status_code(res), \n",
    "              .p = ~ .x == 200,\n",
    "              msg = \"The API returned an error\")\n",
    "}"
   ]
  },
  {
   "cell_type": "code",
   "execution_count": null,
   "metadata": {},
   "outputs": [],
   "source": [
    "base_url <- \"https://api-adresse.data.gouv.fr/search/\"\n",
    "reverse_url <- \"https://api-adresse.data.gouv.fr/reverse/\""
   ]
  }
 ],
 "metadata": {
  "kernelspec": {
   "display_name": "R",
   "language": "R",
   "name": "ir"
  },
  "language_info": {
   "codemirror_mode": "r",
   "file_extension": ".r",
   "mimetype": "text/x-r-source",
   "name": "R",
   "pygments_lexer": "r",
   "version": "4.0.2"
  }
 },
 "nbformat": 4,
 "nbformat_minor": 4
}
