{
 "cells": [
  {
   "cell_type": "code",
   "execution_count": 1,
   "metadata": {},
   "outputs": [
    {
     "name": "stderr",
     "output_type": "stream",
     "text": [
      "Installing package into 'C:/Users/manda/R/win-library/4.0'\n",
      "(as 'lib' is unspecified)\n",
      "\n",
      "also installing the dependencies 'credentials', 'gitcreds', 'gert', 'gh', 'rappdirs', 'rlang', 'withr', 'usethis', 'covr'\n",
      "\n",
      "\n"
     ]
    },
    {
     "name": "stdout",
     "output_type": "stream",
     "text": [
      "package 'credentials' successfully unpacked and MD5 sums checked\n",
      "package 'gitcreds' successfully unpacked and MD5 sums checked\n",
      "package 'gert' successfully unpacked and MD5 sums checked\n",
      "package 'gh' successfully unpacked and MD5 sums checked\n",
      "package 'rappdirs' successfully unpacked and MD5 sums checked\n",
      "package 'rlang' successfully unpacked and MD5 sums checked\n"
     ]
    },
    {
     "name": "stderr",
     "output_type": "stream",
     "text": [
      "Warning message:\n",
      "\"cannot remove prior installation of package 'rlang'\"\n",
      "Warning message in file.copy(savedcopy, lib, recursive = TRUE):\n",
      "\"problem copying C:\\Users\\manda\\R\\win-library\\4.0\\00LOCK\\rlang\\libs\\x64\\rlang.dll to C:\\Users\\manda\\R\\win-library\\4.0\\rlang\\libs\\x64\\rlang.dll: Permission denied\"\n",
      "Warning message:\n",
      "\"restored 'rlang'\"\n"
     ]
    },
    {
     "name": "stdout",
     "output_type": "stream",
     "text": [
      "package 'withr' successfully unpacked and MD5 sums checked\n",
      "package 'usethis' successfully unpacked and MD5 sums checked\n",
      "package 'covr' successfully unpacked and MD5 sums checked\n",
      "package 'devtools' successfully unpacked and MD5 sums checked\n",
      "\n",
      "The downloaded binary packages are in\n",
      "\tC:\\Users\\manda\\AppData\\Local\\Temp\\Rtmp2drIuL\\downloaded_packages\n"
     ]
    },
    {
     "name": "stderr",
     "output_type": "stream",
     "text": [
      "Installing package into 'C:/Users/manda/R/win-library/4.0'\n",
      "(as 'lib' is unspecified)\n",
      "\n"
     ]
    },
    {
     "name": "stdout",
     "output_type": "stream",
     "text": [
      "package 'roxygen2' successfully unpacked and MD5 sums checked\n",
      "\n",
      "The downloaded binary packages are in\n",
      "\tC:\\Users\\manda\\AppData\\Local\\Temp\\Rtmp2drIuL\\downloaded_packages\n"
     ]
    },
    {
     "name": "stderr",
     "output_type": "stream",
     "text": [
      "Installing package into 'C:/Users/manda/R/win-library/4.0'\n",
      "(as 'lib' is unspecified)\n",
      "\n",
      "also installing the dependency 'rlang'\n",
      "\n",
      "\n"
     ]
    },
    {
     "name": "stdout",
     "output_type": "stream",
     "text": [
      "package 'rlang' successfully unpacked and MD5 sums checked\n"
     ]
    },
    {
     "name": "stderr",
     "output_type": "stream",
     "text": [
      "Warning message:\n",
      "\"cannot remove prior installation of package 'rlang'\"\n",
      "Warning message in file.copy(savedcopy, lib, recursive = TRUE):\n",
      "\"problem copying C:\\Users\\manda\\R\\win-library\\4.0\\00LOCK\\rlang\\libs\\x64\\rlang.dll to C:\\Users\\manda\\R\\win-library\\4.0\\rlang\\libs\\x64\\rlang.dll: Permission denied\"\n",
      "Warning message:\n",
      "\"restored 'rlang'\"\n"
     ]
    },
    {
     "name": "stdout",
     "output_type": "stream",
     "text": [
      "package 'usethis' successfully unpacked and MD5 sums checked\n",
      "\n",
      "The downloaded binary packages are in\n",
      "\tC:\\Users\\manda\\AppData\\Local\\Temp\\Rtmp2drIuL\\downloaded_packages\n"
     ]
    },
    {
     "name": "stderr",
     "output_type": "stream",
     "text": [
      "Installing package into 'C:/Users/manda/R/win-library/4.0'\n",
      "(as 'lib' is unspecified)\n",
      "\n"
     ]
    },
    {
     "name": "stdout",
     "output_type": "stream",
     "text": [
      "package 'curl' successfully unpacked and MD5 sums checked\n",
      "\n",
      "The downloaded binary packages are in\n",
      "\tC:\\Users\\manda\\AppData\\Local\\Temp\\Rtmp2drIuL\\downloaded_packages\n"
     ]
    },
    {
     "name": "stderr",
     "output_type": "stream",
     "text": [
      "Installing package into 'C:/Users/manda/R/win-library/4.0'\n",
      "(as 'lib' is unspecified)\n",
      "\n"
     ]
    },
    {
     "name": "stdout",
     "output_type": "stream",
     "text": [
      "package 'httr' successfully unpacked and MD5 sums checked\n",
      "\n",
      "The downloaded binary packages are in\n",
      "\tC:\\Users\\manda\\AppData\\Local\\Temp\\Rtmp2drIuL\\downloaded_packages\n"
     ]
    },
    {
     "name": "stderr",
     "output_type": "stream",
     "text": [
      "Installing package into 'C:/Users/manda/R/win-library/4.0'\n",
      "(as 'lib' is unspecified)\n",
      "\n"
     ]
    },
    {
     "name": "stdout",
     "output_type": "stream",
     "text": [
      "package 'jsonlite' successfully unpacked and MD5 sums checked\n"
     ]
    },
    {
     "name": "stderr",
     "output_type": "stream",
     "text": [
      "Warning message:\n",
      "\"cannot remove prior installation of package 'jsonlite'\"\n",
      "Warning message in file.copy(savedcopy, lib, recursive = TRUE):\n",
      "\"problem copying C:\\Users\\manda\\R\\win-library\\4.0\\00LOCK\\jsonlite\\libs\\x64\\jsonlite.dll to C:\\Users\\manda\\R\\win-library\\4.0\\jsonlite\\libs\\x64\\jsonlite.dll: Permission denied\"\n",
      "Warning message:\n",
      "\"restored 'jsonlite'\"\n"
     ]
    },
    {
     "name": "stdout",
     "output_type": "stream",
     "text": [
      "\n",
      "The downloaded binary packages are in\n",
      "\tC:\\Users\\manda\\AppData\\Local\\Temp\\Rtmp2drIuL\\downloaded_packages\n"
     ]
    },
    {
     "name": "stderr",
     "output_type": "stream",
     "text": [
      "Installing package into 'C:/Users/manda/R/win-library/4.0'\n",
      "(as 'lib' is unspecified)\n",
      "\n"
     ]
    },
    {
     "name": "stdout",
     "output_type": "stream",
     "text": [
      "package 'attempt' successfully unpacked and MD5 sums checked\n",
      "\n",
      "The downloaded binary packages are in\n",
      "\tC:\\Users\\manda\\AppData\\Local\\Temp\\Rtmp2drIuL\\downloaded_packages\n"
     ]
    },
    {
     "name": "stderr",
     "output_type": "stream",
     "text": [
      "Installing package into 'C:/Users/manda/R/win-library/4.0'\n",
      "(as 'lib' is unspecified)\n",
      "\n"
     ]
    },
    {
     "name": "stdout",
     "output_type": "stream",
     "text": [
      "package 'purrr' successfully unpacked and MD5 sums checked\n",
      "\n",
      "The downloaded binary packages are in\n",
      "\tC:\\Users\\manda\\AppData\\Local\\Temp\\Rtmp2drIuL\\downloaded_packages\n"
     ]
    },
    {
     "ename": "ERROR",
     "evalue": "Error in loadNamespace(i, c(lib.loc, .libPaths()), versionCheck = vI[[i]]): namespace 'rlang' 0.4.7 is already loaded, but >= 0.4.10 is required\n",
     "output_type": "error",
     "traceback": [
      "Error in loadNamespace(i, c(lib.loc, .libPaths()), versionCheck = vI[[i]]): namespace 'rlang' 0.4.7 is already loaded, but >= 0.4.10 is required\nTraceback:\n",
      "1. devtools::install_github",
      "2. getExportedValue(pkg, name)",
      "3. asNamespace(ns)",
      "4. getNamespace(ns)",
      "5. loadNamespace(name)",
      "6. namespaceImportFrom(ns, loadNamespace(j <- i[[1L]], c(lib.loc, \n .     .libPaths()), versionCheck = vI[[j]]), i[[2L]], from = package)",
      "7. asNamespace(ns)",
      "8. loadNamespace(j <- i[[1L]], c(lib.loc, .libPaths()), versionCheck = vI[[j]])",
      "9. namespaceImport(ns, loadNamespace(i, c(lib.loc, .libPaths()), \n .     versionCheck = vI[[i]]), from = package)",
      "10. loadNamespace(i, c(lib.loc, .libPaths()), versionCheck = vI[[i]])",
      "11. stop(gettextf(\"namespace %s %s is already loaded, but %s %s is required\", \n  .     sQuote(package), current, zop, zversion), domain = NA)"
     ]
    }
   ],
   "source": [
    "install.packages(\"devtools\")\n",
    "install.packages(\"roxygen2\")\n",
    "install.packages(\"usethis\")\n",
    "install.packages(\"curl\")\n",
    "install.packages(\"httr\")\n",
    "install.packages(\"jsonlite\")\n",
    "install.packages(\"attempt\")\n",
    "install.packages(\"purrr\")\n",
    "\n",
    "devtools::install_github(\"r-lib/desc\")"
   ]
  },
  {
   "cell_type": "code",
   "execution_count": 3,
   "metadata": {},
   "outputs": [
    {
     "name": "stderr",
     "output_type": "stream",
     "text": [
      "Warning message:\n",
      "\"package 'curl' was built under R version 4.0.3\"\n"
     ]
    },
    {
     "name": "stdout",
     "output_type": "stream",
     "text": [
      "List of 7\n",
      " $ url        : chr \"https://eu.httpbin.org/get?foo=123\"\n",
      " $ status_code: int 200\n",
      " $ type       : chr \"application/json\"\n",
      " $ headers    : raw [1:230] 48 54 54 50 ...\n",
      " $ modified   : POSIXct[1:1], format: NA\n",
      " $ times      : Named num [1:6] 0 0.0365 0.1049 0.2311 0.2807 ...\n",
      "  ..- attr(*, \"names\")= chr [1:6] \"redirect\" \"namelookup\" \"connect\" \"pretransfer\" ...\n",
      " $ content    : raw [1:363] 7b 0a 20 20 ...\n"
     ]
    }
   ],
   "source": [
    "library('curl')\n",
    "req <- curl_fetch_memory(\"https://eu.httpbin.org/get?foo=123\")\n",
    "str(req)"
   ]
  },
  {
   "cell_type": "code",
   "execution_count": 4,
   "metadata": {},
   "outputs": [
    {
     "data": {
      "text/html": [
       "<style>\n",
       ".list-inline {list-style: none; margin:0; padding: 0}\n",
       ".list-inline>li {display: inline-block}\n",
       ".list-inline>li:not(:last-child)::after {content: \"\\00b7\"; padding: 0 .5ex}\n",
       "</style>\n",
       "<ol class=list-inline><li>'HTTP/1.1 200 OK'</li><li>'Date: Sun, 21 Feb 2021 08:56:52 GMT'</li><li>'Content-Type: application/json'</li><li>'Content-Length: 363'</li><li>'Connection: keep-alive'</li><li>'Server: gunicorn/19.9.0'</li><li>'Access-Control-Allow-Origin: *'</li><li>'Access-Control-Allow-Credentials: true'</li></ol>\n"
      ],
      "text/latex": [
       "\\begin{enumerate*}\n",
       "\\item 'HTTP/1.1 200 OK'\n",
       "\\item 'Date: Sun, 21 Feb 2021 08:56:52 GMT'\n",
       "\\item 'Content-Type: application/json'\n",
       "\\item 'Content-Length: 363'\n",
       "\\item 'Connection: keep-alive'\n",
       "\\item 'Server: gunicorn/19.9.0'\n",
       "\\item 'Access-Control-Allow-Origin: *'\n",
       "\\item 'Access-Control-Allow-Credentials: true'\n",
       "\\end{enumerate*}\n"
      ],
      "text/markdown": [
       "1. 'HTTP/1.1 200 OK'\n",
       "2. 'Date: Sun, 21 Feb 2021 08:56:52 GMT'\n",
       "3. 'Content-Type: application/json'\n",
       "4. 'Content-Length: 363'\n",
       "5. 'Connection: keep-alive'\n",
       "6. 'Server: gunicorn/19.9.0'\n",
       "7. 'Access-Control-Allow-Origin: *'\n",
       "8. 'Access-Control-Allow-Credentials: true'\n",
       "\n",
       "\n"
      ],
      "text/plain": [
       "[1] \"HTTP/1.1 200 OK\"                       \n",
       "[2] \"Date: Sun, 21 Feb 2021 08:56:52 GMT\"   \n",
       "[3] \"Content-Type: application/json\"        \n",
       "[4] \"Content-Length: 363\"                   \n",
       "[5] \"Connection: keep-alive\"                \n",
       "[6] \"Server: gunicorn/19.9.0\"               \n",
       "[7] \"Access-Control-Allow-Origin: *\"        \n",
       "[8] \"Access-Control-Allow-Credentials: true\""
      ]
     },
     "metadata": {},
     "output_type": "display_data"
    }
   ],
   "source": [
    "parse_headers(req$headers)\n"
   ]
  },
  {
   "cell_type": "code",
   "execution_count": 5,
   "metadata": {},
   "outputs": [
    {
     "data": {
      "text/plain": [
       "{\n",
       "    \"args\": {\n",
       "        \"foo\": \"123\"\n",
       "    },\n",
       "    \"headers\": {\n",
       "        \"Accept\": \"*/*\",\n",
       "        \"Accept-Encoding\": \"deflate, gzip\",\n",
       "        \"Host\": \"eu.httpbin.org\",\n",
       "        \"User-Agent\": \"R (4.0.2 x86_64-w64-mingw32 x86_64 mingw32)\",\n",
       "        \"X-Amzn-Trace-Id\": \"Root=1-60322054-6bfc0cf446b0b0e83b0b7231\"\n",
       "    },\n",
       "    \"origin\": \"108.213.214.18\",\n",
       "    \"url\": \"https://eu.httpbin.org/get?foo=123\"\n",
       "}\n",
       " "
      ]
     },
     "metadata": {},
     "output_type": "display_data"
    }
   ],
   "source": [
    "jsonlite::prettify(rawToChar(req$content))\n"
   ]
  },
  {
   "cell_type": "code",
   "execution_count": 6,
   "metadata": {},
   "outputs": [
    {
     "data": {
      "text/plain": [
       "{\n",
       "    \"args\": {\n",
       "        \"bar\": \"456\"\n",
       "    },\n",
       "    \"headers\": {\n",
       "        \"Accept\": \"*/*\",\n",
       "        \"Accept-Encoding\": \"deflate, gzip\",\n",
       "        \"Host\": \"eu.httpbin.org\",\n",
       "        \"User-Agent\": \"R (4.0.2 x86_64-w64-mingw32 x86_64 mingw32)\",\n",
       "        \"X-Amzn-Trace-Id\": \"Root=1-603220a4-29a8793b65df51ad4b5a4dfe\"\n",
       "    },\n",
       "    \"origin\": \"108.213.214.18\",\n",
       "    \"url\": \"https://eu.httpbin.org/get?bar=456\"\n",
       "}\n",
       " "
      ]
     },
     "metadata": {},
     "output_type": "display_data"
    }
   ],
   "source": [
    "tmp <- tempfile()\n",
    "curl_download(\"https://eu.httpbin.org/get?bar=456\", tmp)\n",
    "jsonlite::prettify(readLines(tmp))"
   ]
  },
  {
   "cell_type": "code",
   "execution_count": 7,
   "metadata": {},
   "outputs": [
    {
     "ename": "ERROR",
     "evalue": "Error in curl_fetch_memory(\"https://cloud.r-project.org/CRAN_mirrorZ.csv\", : The requested URL returned error: 404 Not Found\n",
     "output_type": "error",
     "traceback": [
      "Error in curl_fetch_memory(\"https://cloud.r-project.org/CRAN_mirrorZ.csv\", : The requested URL returned error: 404 Not Found\nTraceback:\n",
      "1. curl_fetch_memory(\"https://cloud.r-project.org/CRAN_mirrorZ.csv\", \n .     handle = h)"
     ]
    }
   ],
   "source": [
    "# URL: https://www150.statcan.gc.ca/t1/wds/rest/getFullTableDownloadCSV/14100287/en\n",
    "\n",
    "\n",
    "\n",
    "h <- new_handle(failonerror = TRUE)\n",
    "curl_fetch_memory('https://cloud.r-project.org/CRAN_mirrorZ.csv', handle = h)"
   ]
  },
  {
   "cell_type": "code",
   "execution_count": null,
   "metadata": {},
   "outputs": [],
   "source": [
    "base_url <- \"https://api-adresse.data.gouv.fr/search/\"\n",
    "httr::GET(url = base_url, query = list(q = \"Yeaye\"))\n"
   ]
  },
  {
   "cell_type": "code",
   "execution_count": null,
   "metadata": {},
   "outputs": [],
   "source": [
    "h <- new_handle(failonerror = TRUE)\n",
    "curl_fetch_memory('https://cloud.r-project.org/CRAN_mirrorZ.csv', handle = h)"
   ]
  },
  {
   "cell_type": "code",
   "execution_count": null,
   "metadata": {},
   "outputs": [],
   "source": [
    "tmp <- tempfile()\n",
    "curl_download(\"https://eu.httpbin.org/post\", destfile = tmp, handle = h)\n",
    "jsonlite::prettify(readLines(tmp))"
   ]
  },
  {
   "cell_type": "code",
   "execution_count": null,
   "metadata": {},
   "outputs": [],
   "source": [
    "\n",
    "\n"
   ]
  },
  {
   "cell_type": "code",
   "execution_count": 11,
   "metadata": {},
   "outputs": [
    {
     "data": {
      "text/plain": [
       "Response [https://www150.statcan.gc.ca/t1/wds/rest/getFullTableDownloadCSV/14100287/en]\n",
       "  Date: 2021-02-21 15:37\n",
       "  Status: 200\n",
       "  Content-Type: application/json\n",
       "  Size: 88 B\n"
      ]
     },
     "metadata": {},
     "output_type": "display_data"
    },
    {
     "name": "stdout",
     "output_type": "stream",
     "text": [
      "List of 10\n",
      " $ url        : chr \"https://www150.statcan.gc.ca/t1/wds/rest/getFullTableDownloadCSV/14100287/en\"\n",
      " $ status_code: int 200\n",
      " $ headers    :List of 23\n",
      "  ..$ date                         : chr \"Sun, 21 Feb 2021 15:37:43 GMT\"\n",
      "  ..$ content-type                 : chr \"application/json\"\n",
      "  ..$ connection                   : chr \"keep-alive\"\n",
      "  ..$ vary                         : chr \"Accept-Encoding\"\n",
      "  ..$ vary                         : chr \"accept-encoding\"\n",
      "  ..$ expires                      : chr \"Sun, 21 Feb 2021 15:39:43 GMT\"\n",
      "  ..$ cache-control                : chr \"max-age=120\"\n",
      "  ..$ x-content-type-options       : chr \"nosniff\"\n",
      "  ..$ x-xss-protection             : chr \"1; mode=block\"\n",
      "  ..$ content-security-policy      : chr \"default-src 'self' 'unsafe-inline' *.statcan.gc.ca *.statcan.ca *.stc.ca  *.demdex.net *.omtrdc.net *.everestte\"| __truncated__\n",
      "  ..$ x-frame-options              : chr \"SAMEORIGIN\"\n",
      "  ..$ strict-transport-security    : chr \"max-age=31536000; includeSubDomains\"\n",
      "  ..$ x-frame-options              : chr \"SAMEORIGIN\"\n",
      "  ..$ x-proxy-cache                : chr \"EXPIRED\"\n",
      "  ..$ cache-control                : chr \"public\"\n",
      "  ..$ access-control-allow-origin  : chr \"*\"\n",
      "  ..$ access-control-allow-methods : chr \"GET, POST, OPTIONS\"\n",
      "  ..$ access-control-allow-headers : chr \"DNT,X-CustomHeader,Keep-Alive,User-Agent,X-Requested-With,If-Modified-Since,Cache-Control,Content-Type,Content-Range,Range\"\n",
      "  ..$ access-control-expose-headers: chr \"DNT,X-CustomHeader,Keep-Alive,User-Agent,X-Requested-With,If-Modified-Since,Cache-Control,Content-Type,Content-Range,Range\"\n",
      "  ..$ content-encoding             : chr \"gzip\"\n",
      "  ..$ strict-transport-security    : chr \"max-age=31536000\"\n",
      "  ..$ set-cookie                   : chr \"TS011c6724=01bc1e93392cd8d85eb8807006673cb0af62acb4ed46af7ac6b79672f88cee46bfb8551bf60a1e2baa6f47353b82ab0f9a3a356eae; Path=/\"\n",
      "  ..$ transfer-encoding            : chr \"chunked\"\n",
      "  ..- attr(*, \"class\")= chr [1:2] \"insensitive\" \"list\"\n",
      " $ all_headers:List of 1\n",
      "  ..$ :List of 3\n",
      "  .. ..$ status : int 200\n",
      "  .. ..$ version: chr \"HTTP/1.1\"\n",
      "  .. ..$ headers:List of 23\n",
      "  .. .. ..$ date                         : chr \"Sun, 21 Feb 2021 15:37:43 GMT\"\n",
      "  .. .. ..$ content-type                 : chr \"application/json\"\n",
      "  .. .. ..$ connection                   : chr \"keep-alive\"\n",
      "  .. .. ..$ vary                         : chr \"Accept-Encoding\"\n",
      "  .. .. ..$ vary                         : chr \"accept-encoding\"\n",
      "  .. .. ..$ expires                      : chr \"Sun, 21 Feb 2021 15:39:43 GMT\"\n",
      "  .. .. ..$ cache-control                : chr \"max-age=120\"\n",
      "  .. .. ..$ x-content-type-options       : chr \"nosniff\"\n",
      "  .. .. ..$ x-xss-protection             : chr \"1; mode=block\"\n",
      "  .. .. ..$ content-security-policy      : chr \"default-src 'self' 'unsafe-inline' *.statcan.gc.ca *.statcan.ca *.stc.ca  *.demdex.net *.omtrdc.net *.everestte\"| __truncated__\n",
      "  .. .. ..$ x-frame-options              : chr \"SAMEORIGIN\"\n",
      "  .. .. ..$ strict-transport-security    : chr \"max-age=31536000; includeSubDomains\"\n",
      "  .. .. ..$ x-frame-options              : chr \"SAMEORIGIN\"\n",
      "  .. .. ..$ x-proxy-cache                : chr \"EXPIRED\"\n",
      "  .. .. ..$ cache-control                : chr \"public\"\n",
      "  .. .. ..$ access-control-allow-origin  : chr \"*\"\n",
      "  .. .. ..$ access-control-allow-methods : chr \"GET, POST, OPTIONS\"\n",
      "  .. .. ..$ access-control-allow-headers : chr \"DNT,X-CustomHeader,Keep-Alive,User-Agent,X-Requested-With,If-Modified-Since,Cache-Control,Content-Type,Content-Range,Range\"\n",
      "  .. .. ..$ access-control-expose-headers: chr \"DNT,X-CustomHeader,Keep-Alive,User-Agent,X-Requested-With,If-Modified-Since,Cache-Control,Content-Type,Content-Range,Range\"\n",
      "  .. .. ..$ content-encoding             : chr \"gzip\"\n",
      "  .. .. ..$ strict-transport-security    : chr \"max-age=31536000\"\n",
      "  .. .. ..$ set-cookie                   : chr \"TS011c6724=01bc1e93392cd8d85eb8807006673cb0af62acb4ed46af7ac6b79672f88cee46bfb8551bf60a1e2baa6f47353b82ab0f9a3a356eae; Path=/\"\n",
      "  .. .. ..$ transfer-encoding            : chr \"chunked\"\n",
      "  .. .. ..- attr(*, \"class\")= chr [1:2] \"insensitive\" \"list\"\n",
      " $ cookies    :'data.frame':\t1 obs. of  7 variables:\n",
      "  ..$ domain    : chr \"www150.statcan.gc.ca\"\n",
      "  ..$ flag      : logi FALSE\n",
      "  ..$ path      : chr \"/\"\n",
      "  ..$ secure    : logi FALSE\n",
      "  ..$ expiration: POSIXct[1:1], format: NA\n",
      "  ..$ name      : chr \"TS011c6724\"\n",
      "  ..$ value     : chr \"01bc1e93392cd8d85eb8807006673cb0af62acb4ed46af7ac6b79672f88cee46bfb8551bf60a1e2baa6f47353b82ab0f9a3a356eae\"\n",
      " $ content    : raw [1:88] 7b 22 73 74 ...\n",
      " $ date       : POSIXct[1:1], format: \"2021-02-21 15:37:43\"\n",
      " $ times      : Named num [1:6] 0 0.00288 0.04964 0.09972 0.15019 ...\n",
      "  ..- attr(*, \"names\")= chr [1:6] \"redirect\" \"namelookup\" \"connect\" \"pretransfer\" ...\n",
      " $ request    :List of 7\n",
      "  ..$ method    : chr \"GET\"\n",
      "  ..$ url       : chr \"https://www150.statcan.gc.ca/t1/wds/rest/getFullTableDownloadCSV/14100287/en\"\n",
      "  ..$ headers   : Named chr \"application/json, text/xml, application/xml, */*\"\n",
      "  .. ..- attr(*, \"names\")= chr \"Accept\"\n",
      "  ..$ fields    : NULL\n",
      "  ..$ options   :List of 2\n",
      "  .. ..$ useragent: chr \"libcurl/7.64.1 r-curl/4.3 httr/1.4.2\"\n",
      "  .. ..$ httpget  : logi TRUE\n",
      "  ..$ auth_token: NULL\n",
      "  ..$ output    : list()\n",
      "  .. ..- attr(*, \"class\")= chr [1:2] \"write_memory\" \"write_function\"\n",
      "  ..- attr(*, \"class\")= chr \"request\"\n",
      " $ handle     :Class 'curl_handle' <externalptr> \n",
      " - attr(*, \"class\")= chr \"response\"\n"
     ]
    }
   ],
   "source": [
    "st\n"
   ]
  },
  {
   "cell_type": "code",
   "execution_count": null,
   "metadata": {},
   "outputs": [],
   "source": []
  },
  {
   "cell_type": "markdown",
   "metadata": {},
   "source": [
    "<h3 id=\"a14-3\">WDS – Datastructure – TableMetadata</h3>\n",
    "\n",
    "<table class=\"table table-condensed table-bordered\">\n",
    "\t<caption class=\"text-left wb-inv\">WDS – Datastructure – TableMetadata</caption>\n",
    "\t<thead>\n",
    "\t\t<tr class=\"active\">\n",
    "\t\t\t<th scope=\"col\">Field name</th>\n",
    "\t\t\t<th scope=\"col\">Type</th>\n",
    "\t\t\t<th scope=\"col\">Comment</th>\n",
    "\t\t</tr>\n",
    "\t</thead>\n",
    "\t<tbody>\n",
    "\t\t<tr>\n",
    "\t\t\t<th scope=\"row\">Status</th>\n",
    "\t\t\t<td>String</td>\n",
    "\t\t\t<td>Response status<br>\n",
    "\t\t\t\tReturns: SUCCESS (if successful)<br>\n",
    "\t\t\t\tReturns: FAILED (if failure)</td>\n",
    "\t\t</tr>\n",
    "\t\t<tr>\n",
    "\t\t\t<th scope=\"row\">productId</th>\n",
    "\t\t\t<td>Integer</td>\n",
    "\t\t\t<td>Representative / default&nbsp;view product ID for a table:<br>\n",
    "\t\t\t\t10-digit identifier (i.e. 1310008901)<br>\n",
    "\t\t\t\tFirst two digits are the Subject (i.e. 13=Health),<br>\n",
    "\t\t\t\tDigits 3 and 4 are the product type (i.e. 10=table/cube),<br>\n",
    "\t\t\t\tDigits 5 to 8 are the sequential numbers within the subject (i.e. 0089)<br>\n",
    "\t\t\t\tDigits 9 and 10 are optional, to identify the simple view of a table/cube (i.e. 01)</td>\n",
    "\t\t</tr>\n",
    "\t\t<tr>\n",
    "\t\t\t<th scope=\"row\">cansimId</th>\n",
    "\t\t\t<td>String</td>\n",
    "\t\t\t<td>Old CANSIM table. (i.e. 282-0020)<br>\n",
    "\t\t\t\tProvide historical reference.</td>\n",
    "\t\t</tr>\n",
    "\t\t<tr>\n",
    "\t\t\t<th scope=\"row\">cubeTitleEn</th>\n",
    "\t\t\t<td>String</td>\n",
    "\t\t\t<td>Title of table, English</td>\n",
    "\t\t</tr>\n",
    "\t\t<tr>\n",
    "\t\t\t<th scope=\"row\">cubeTitleFr</th>\n",
    "\t\t\t<td>String</td>\n",
    "\t\t\t<td>Title of table, French</td>\n",
    "\t\t</tr>\n",
    "\t\t<tr>\n",
    "\t\t\t<th scope=\"row\">correctionId</th>\n",
    "\t\t\t<td>Integer</td>\n",
    "\t\t\t<td>Correction ID<br>\n",
    "\t\t\t\tThe presence of the correction Id indicates if the table has a correction or not.</td>\n",
    "\t\t</tr>\n",
    "\t\t<tr>\n",
    "\t\t\t<th scope=\"row\">correctionDate</th>\n",
    "\t\t\t<td>String</td>\n",
    "\t\t\t<td>Correction date.</td>\n",
    "\t\t</tr>\n",
    "\t\t<tr>\n",
    "\t\t\t<th scope=\"row\">correctionNoteEn</th>\n",
    "\t\t\t<td>String</td>\n",
    "\t\t\t<td>Correction note, English.</td>\n",
    "\t\t</tr>\n",
    "\t\t<tr>\n",
    "\t\t\t<th scope=\"row\">correctionNoteFr</th>\n",
    "\t\t\t<td>String</td>\n",
    "\t\t\t<td>Correction note, French.</td>\n",
    "\t\t</tr>\n",
    "\t\t<tr>\n",
    "\t\t\t<th scope=\"row\">cubeStartDate</th>\n",
    "\t\t\t<td>String</td>\n",
    "\t\t\t<td>Reference period start date for the table.<br>\n",
    "\t\t\t\tFormat: YYYY-MM-DD (year, month, day)</td>\n",
    "\t\t</tr>\n",
    "\t\t<tr>\n",
    "\t\t\t<th scope=\"row\">cubeEndDate</th>\n",
    "\t\t\t<td>String</td>\n",
    "\t\t\t<td>Reference period end date for the table.<br>\n",
    "\t\t\t\tFormat: YYYY-MM-DD (year, month, day)</td>\n",
    "\t\t</tr>\n",
    "\t\t<tr>\n",
    "\t\t\t<th scope=\"row\">nbSeriesCube</th>\n",
    "\t\t\t<td>Long</td>\n",
    "\t\t\t<td>Number of series for the entire table.<br>\n",
    "\t\t\t\tThis field excludes impossible series.</td>\n",
    "\t\t</tr>\n",
    "\t\t<tr>\n",
    "\t\t\t<th scope=\"row\">nbDatapointsCube</th>\n",
    "\t\t\t<td>Long</td>\n",
    "\t\t\t<td>Number of data points for the entire table.</td>\n",
    "\t\t</tr>\n",
    "\t\t<tr>\n",
    "\t\t\t<th scope=\"row\">Archived</th>\n",
    "\t\t\t<td>Boolean</td>\n",
    "\t\t\t<td>Indicate if a table is archived or not.<br>\n",
    "\t\t\t\tPreviously known as terminated table (i.e. table that is no longer being updated)</td>\n",
    "\t\t</tr>\n",
    "\t\t<tr>\n",
    "\t\t\t<th scope=\"row\">subjectCode</th>\n",
    "\t\t\t<td>List &lt;String&gt;</td>\n",
    "\t\t\t<td>Unique identifier for a subject (taxonomy)<br>\n",
    "\t\t\t\tMultiple subject codes can be associated to one product PID.<br>\n",
    "\t\t\t\tIncludes first &amp; second and third level where applicable.<br>\n",
    "\t\t\t\tRefer to <a href=\"#a15\">Appendix A</a> for list of possible values.</td>\n",
    "\t\t</tr>\n",
    "\t\t<tr>\n",
    "\t\t\t<th scope=\"row\">surveyCode</th>\n",
    "\t\t\t<td>List &lt;String&gt;</td>\n",
    "\t\t\t<td>Survey record number.<br>\n",
    "\t\t\t\tMultiple survey codes can be associated to one product PID.<br>\n",
    "\t\t\t\tRefer to <a href=\"#a15\">Appendix A</a> for list of possible values.</td>\n",
    "\t\t</tr>\n",
    "\t\t<tr>\n",
    "\t\t\t<th scope=\"row\">Dimensions</th>\n",
    "\t\t\t<td>Dimension datastructure</td>\n",
    "\t\t\t<td>Holds dimensions and members information.</td>\n",
    "\t\t</tr>\n",
    "\t\t<tr>\n",
    "\t\t\t<th scope=\"row\">footnoteId</th>\n",
    "\t\t\t<td>Integer</td>\n",
    "\t\t\t<td>Footnote Indicator.<br>\n",
    "\t\t\t\tFootnote apply at the table, dimension and member level.</td>\n",
    "\t\t</tr>\n",
    "\t\t<tr>\n",
    "\t\t\t<th scope=\"row\">footnotesEn</th>\n",
    "\t\t\t<td>String</td>\n",
    "\t\t\t<td>Footnotes, English</td>\n",
    "\t\t</tr>\n",
    "\t\t<tr>\n",
    "\t\t\t<th scope=\"row\">footnotesFr</th>\n",
    "\t\t\t<td>String</td>\n",
    "\t\t\t<td>Footnotes, French</td>\n",
    "\t\t</tr>\n",
    "\t</tbody>\n",
    "</table>\n"
   ]
  },
  {
   "cell_type": "code",
   "execution_count": 16,
   "metadata": {},
   "outputs": [
    {
     "data": {
      "text/plain": [
       "Response [https://www150.statcan.gc.ca/t1/wds/rest/getFullTableDownloadCSV/14100287/en]\n",
       "  Date: 2021-02-21 16:17\n",
       "  Status: 200\n",
       "  Content-Type: application/json\n",
       "  Size: 88 B\n"
      ]
     },
     "metadata": {},
     "output_type": "display_data"
    }
   ],
   "source": [
    "search_ban <- function(Status = NULL, productId = NULL, cansimID = NULL, cubeTitleEn = NULL, cubeTitleFr = NULL, correctionId = NULL, correctionDate = NULL, correctionNoteEn = NULL, correctionNoteFr = NULL, cubeStartDate = NULL,\n",
    "                      cubeEndDate = NULL, nbSeriesCube = NULL, nbDatapointsCube = NULL, Archived = NULL, subjectCode = NULL, surveryCode = NULL, Dimensions = NULL, footnoteId = NULL, footnotesEn = NULL, footnotesFr = NULL )\n",
    "{\n",
    "  args <- list(Status = Status, productId = productId, cansimID = cansimID, cubeTitleEn = cubeTitleEn, cubeTitleFr = cubeTitleFr, correctionId = correctionId, correctionDate = correctionDate, \n",
    "               correctionNoteEn = correctionNoteEn, correctionNoteFr = correctionNoteFr, cubeStartDate = cubeStartDate, cubeEndDate = cubeEndDate, nbSeriesCube = nbSeriesCuve, nbDatapointsCube = nbDatapointsCube, Archived = Archived, subjectCode = subjectCode, surveryCode = surveyCode, Dimensions = Dimensions, footnoteId = footnoteId, footnotesEn = footnotesEn, footnotesFr = footnotesFr )\n",
    "    \n",
    "  # Check that at least one argument is not null\n",
    "  stop_if_all(args, is.null, \"You need to specify at least one argument\")\n",
    "  # Chek for internet\n",
    "  check_internet()\n",
    "  # Create the \n",
    "  doc1 <- GET(base_url, query = compact(args))\n",
    "  # Check the result\n",
    "  check_status(doc1)\n",
    "  # Get the content and return it as a data.frame\n",
    "  fromJSON(rawToChar(res$content))$features\n",
    "}\n",
    "\n",
    "    \n",
    "library(httr)\n",
    "library(jsonlite)\n",
    "res1 = GET(\"https://www150.statcan.gc.ca/t1/wds/rest/getFullTableDownloadCSV/14100287/en\")\n",
    "res1\n",
    "\n",
    "# base_url <- \"https://api-adresse.data.gouv.fr/search/\"\n",
    "# httr::GET(url = base_url, query = list(q = \"Yeaye\"))\n"
   ]
  },
  {
   "cell_type": "code",
   "execution_count": null,
   "metadata": {},
   "outputs": [],
   "source": []
  }
 ],
 "metadata": {
  "kernelspec": {
   "display_name": "R",
   "language": "R",
   "name": "ir"
  },
  "language_info": {
   "codemirror_mode": "r",
   "file_extension": ".r",
   "mimetype": "text/x-r-source",
   "name": "R",
   "pygments_lexer": "r",
   "version": "4.0.2"
  }
 },
 "nbformat": 4,
 "nbformat_minor": 4
}
