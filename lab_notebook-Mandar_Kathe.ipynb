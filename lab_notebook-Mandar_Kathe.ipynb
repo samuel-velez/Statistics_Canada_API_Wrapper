{
 "cells": [
  {
   "cell_type": "markdown",
   "metadata": {},
   "source": [
    "Mandar Kathe\n",
    "02/11/21\n",
    "\n",
    "First formal team meeting.\n",
    "Project instruction analysis and ideas brainstorming.\n",
    "\n",
    "2/11/21 to 2/16/21\n",
    "The initial idea was to explore data mining using API wrapper function for databases like RDKit based smiles and NiMS.\n",
    "The MAPI project for materials generation was also discussed. However, the requisite expert on the MAPI project was unable to provide guidance, so we decided to proceed with the Stat-Canada website \n",
    "\n",
    "02/17/21\n",
    "\n",
    "2nd formal team meeting.we discussed methods to complete the project.\n",
    "I decided to take on the responsibility for implementing a wrapper function that will allow for complete csv table download from statCanada website.\n",
    "\n",
    "02/18/21\n",
    "\n",
    "Created a API wrapper function, created a utility function to provide errors and provided extensive documentation reference for the overall project. The team met to discuss a common integration approach and worked on resolving initial merge conflicts\n",
    "\n",
    "02/19/21\n",
    "\n",
    "worked with Samuel to resolve conflicts and came up with a strategy to formalize the merge proceedure/\n",
    "\n",
    "02/21/21\n",
    "\n",
    "met with Samuel to work on a final implementation\n",
    "simplified CSV download function to allow for only a productID based argument.\n",
    "Added in a docstrign with an example\n",
    "submitted the project after meeting with Vicens and Samuel to review final proceedures\n"
   ]
  }
 ],
 "metadata": {
  "kernelspec": {
   "display_name": "",
   "name": ""
  },
  "language_info": {
   "name": ""
  }
 },
 "nbformat": 4,
 "nbformat_minor": 4
}
