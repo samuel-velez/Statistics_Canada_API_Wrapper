{
 "cells": [
  {
   "cell_type": "code",
   "execution_count": null,
   "metadata": {},
   "outputs": [],
   "source": [
    "httr::GET(url = base_url, query = list(q = \"Yeaye\"))\n"
   ]
  },
  {
   "cell_type": "code",
   "execution_count": null,
   "metadata": {},
   "outputs": [],
   "source": [
    "\n",
    "# Response [https://api-adresse.data.gouv.fr/search/?q=Yeaye]\n",
    "#   Date: 2018-02-04 21:40\n",
    "#   Status: 200\n",
    "#   Content-Type: application/json; charset=utf-8\n",
    "#   Size: 574 B\n"
   ]
  }
 ],
 "metadata": {
  "kernelspec": {
   "display_name": "R",
   "language": "R",
   "name": "ir"
  },
  "language_info": {
   "codemirror_mode": "r",
   "file_extension": ".r",
   "mimetype": "text/x-r-source",
   "name": "R",
   "pygments_lexer": "r",
   "version": "4.0.2"
  }
 },
 "nbformat": 4,
 "nbformat_minor": 4
}
